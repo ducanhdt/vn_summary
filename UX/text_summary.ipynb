{
 "cells": [
  {
   "cell_type": "code",
   "execution_count": 3,
   "metadata": {},
   "outputs": [],
   "source": [
    "import numpy as np\n",
    "from pyvi import ViTokenizer\n",
    "from sklearn.cluster import KMeans\n",
    "from sklearn.metrics import pairwise_distances_argmin_min\n",
    "from gensim.models import KeyedVectors\n",
    "from pyvi import ViTokenizer\n",
    "import nltk\n",
    "from sklearn.feature_extraction.text import TfidfVectorizer\n",
    "import scipy\n",
    "from gensim.models.doc2vec import Doc2Vec"
   ]
  },
  {
   "cell_type": "code",
   "execution_count": 4,
   "metadata": {},
   "outputs": [],
   "source": [
    "def load_book(input_file):    \n",
    "    with open(input_file, encoding=\"utf8\") as f:\n",
    "        book = f.read()\n",
    "    return book"
   ]
  },
  {
   "cell_type": "code",
   "execution_count": 30,
   "metadata": {},
   "outputs": [],
   "source": [
    "#load data, tách thành các câu\n",
    "#data = load_book('bao.txt')\n",
    "#sentences = nltk.sent_tokenize(data)"
   ]
  },
  {
   "cell_type": "code",
   "execution_count": 5,
   "metadata": {},
   "outputs": [],
   "source": [
    "data = '''Người biểu tình Hong Kong mong chờ dự luật mà quốc hội Mỹ vừa thông qua nhưng nó cũng tiềm ẩn tác động tiêu cực tới kinh tế toàn cầu.\n",
    "\n",
    "Lưỡng viện Mỹ hồi giữa tuần thông qua dự luật Dân chủ và Nhân quyền Hong Kong (HKHRDA). Theo đó, Mỹ sẽ tiến hành đánh giá hàng năm về việc liệu Hong Kong có đủ tự chủ để tiếp tục hưởng các ưu đãi thương mại và kinh tế từ trạng thái đặc biệt được quy định trong Đạo luật Chính sách Mỹ - Hong Kong 1992 hay không.\n",
    "\n",
    "Washington cũng có thể phong tỏa tài sản và cấm vận các quan chức bị coi là vi phạm nhân quyền ở Hong Kong. Chính quyền Mỹ còn tiến hành đánh giá thường niên để xem xét liệu Hong Kong có thực thi đầy đủ các quy định xuất khẩu cùng các biện pháp trừng phạt từ Mỹ và Liên Hợp Quốc hay không.\n",
    "\n",
    "HKHRDA được quốc hội Mỹ phê duyệt trong bối cảnh các cuộc biểu tình phản đối dự luật dẫn độ cho phép đưa tội phạm đến các khu vực tài phán mà Hong Kong chưa ký hiệp ước dẫn độ, bao gồm cả Trung Quốc đại lục, vẫn căng thẳng sau gần 6 tháng, gây ra hàng loạt bất ổn ở đặc khu.\n",
    "\n",
    "Tác động lớn nhất của HKHRDA có lẽ đến từ khả năng Hong Kong bị hủy bỏ trạng thái đặc biệt, thứ tạo ra sự khác biệt giữa đặc khu và phần còn lại của Trung Quốc đại lục, qua đó, bảo vệ Hong Kong khỏi cuộc chiến về thuế đang sôi sục giữa Washington và Bắc Kinh.\n",
    "\n",
    "Trạng thái đặc biệt cũng mang đến những lợi ích khác, bao gồm cho phép cư dân Hong Kong tránh các hạn chế về thị thực áp dụng cho công dân Trung Quốc đại lục, cho phép đặc khu mua các công nghệ nhạy cảm, đồng thời đảm bảo trao đổi tự do giữa đồng dollar Mỹ và dollar Hong Kong. Nó còn giúp Hong Kong đàm phán các thỏa thuận thương mại và đầu tư độc lập với Bắc Kinh.\n",
    "\n",
    "\"Điều này có ý nghĩa nền tảng\", Phó giáo sư Alfred Wu từ Đại học Quốc gia Singapore nhận xét, đề cập tới trạng thái đặc biệt của Hong Kong. \"Nếu HKHRDA thất bại, Hong Kong khi đó sẽ không giống như Hong Kong hiện nay nữa, mà sẽ chỉ là một thành phố bình thường khác của Trung Quốc\".\n",
    "\n",
    "Nhưng với những người biểu tình đã bị bắt và truy tố ở Hong Kong, HKHRDA mang đến cho họ hy vọng.\n",
    "\n",
    "Jason Y. Ng, luật sư Mỹ kiêm liên lạc viên của Nhóm Luật sư Tiến bộ, cho biết HKHRDA ước định rằng những người muốn tới Mỹ nhưng từng bị bắt hay truy tố vì vai trò trong các cuộc biểu tình tại Hong Kong sẽ không bị từ chối cấp visa. Nó cũng đặt những quan chức chính quyền Hong Kong, sĩ quan cảnh sát và gia đình họ vào vòng giám sát.\n",
    "\n",
    "\"Giờ đây, họ phải cân nhắc kỹ hơn mỗi khi làm điều gì đó với người biểu tình nếu vẫn muốn đặt chân lên đất Mỹ, mua tài sản hay mở một tài khoản ngân hàng ở Mỹ\", luật sư Jason Y. Ng nhận định.\n",
    "\n",
    "Học sinh, sinh viên là một trong những thành phần quan trọng nhất tham gia các cuộc biểu tình tại Hong Kong. Nhà lập pháp Kwok Wing-hang cho rằng xét về mặt nhân quyền và tự do, HKHRDA mang đến \"một lớp bảo vệ và cam kết nữa\" cho học sinh, sinh viên. \"Học sinh, sinh viên cần có một lối ra cũng như những lựa chọn khác ngay cả khi họ bị kết án tại Hong Kong vì tham gia biểu tình\", ông nói.\n",
    "\n",
    "Thượng nghị sĩ đảng Cộng hòa bang Florida Marco Rubio, người dẫn đầu các nỗ lực vận động thông qua HKHRDA, tuyên bố dự luật đã \"gửi một thông điệp rõ ràng tới người dân Hong Kong\" rằng Mỹ sẽ \"không đứng ngoài cuộc\".\n",
    "\n",
    "Joshua Wong, người lãnh đạo phong trào biểu tình \"Ô dù\" ở Hong Kong hồi năm 2014, cho hay anh muốn HKHRDA trở thành minh chứng cho thấy \"Bắc Kinh thực sự cần phải đối mặt với áp lực từ cộng đồng quốc tế\".\n",
    "\n",
    "Tuy nhiên, việc phê chuẩn dự luật cũng có thể khiến Mỹ đối mặt với rủi ro. Phòng Thương mại Mỹ (AmCham) tại Hong Kong đánh giá HKHRDA tiềm ẩn nguy cơ dẫn đến \"những hậu quả khó lường và phản tác dụng\" đối với các lợi ích kinh tế Mỹ tại khu vực.\n",
    "\n",
    "Mỹ hiện có 1.344 công ty tại Hong Kong và khoảng 85.000 công dẫn Mỹ đang sinh sống tại đặc khu. Hong Kong cũng là đối tác đem lại thặng dư thương mại song phương lớn nhất của Mỹ trên thế giới, với 33 tỷ USD trong năm 2018.\n",
    "\n",
    "Một số nhà phân tích nhận định bất kỳ động thái nào nhằm chấm dứt trạng thái đặc biệt của Hong Kong đều được coi là sự thất bại dành cho Mỹ, vốn hưởng lợi từ những điều kiện thân thiện với doanh nghiệp tại đặc khu.\n",
    "\n",
    "Nếu Hong Kong trở thành một cảng của Trung Quốc, viễn cảnh đó không chỉ gây tổn hại cho chính đặc khu này mà còn ảnh hưởng không nhỏ tới các doanh nghiệp Mỹ. Các công ty vốn phụ thuộc vào Hong Kong với vai trò trung gian, trung chuyển hàng hóa, sẽ phải cân nhắc đưa doanh nghiệp tới những nơi khác, như Singapore hay Tokyo.\n",
    "\n",
    "Bất kể điều gì làm thay đổi trạng thái đặc biệt của Hong Kong đều sẽ \"tác động xấu tới thương mại và đầu tư Mỹ ở đặc khu cũng như truyền đi những tín hiệu tiêu cực về vị thế đáng tin cậy của Hong Kong trong nền kinh tế toàn cầu\", AmCham lưu ý.\n",
    "\n",
    "Sau khi lưỡng viện Mỹ thông qua HKHRDA, Trung Quốc đã kêu gọi Tổng thống Donald Trump không ký dự luật, cảnh báo Bắc Kinh sẽ trả đũa nếu HKHRDA trở thành luật.\n",
    "\n",
    "\"Chúng tôi kêu gọi Mỹ kiểm soát tình hình, chấm dứt hành vi sai trái của mình trước khi quá muộn, ngăn dự luật này trở thành luật và lập tức dừng can thiệp vào vấn đề Hong Kong cũng như các vấn đề nội bộ của Trung Quốc\", phát ngôn viên Bộ Ngoại giao Trung Quốc Cảnh Sảng ngày 21/11 tuyên bố. \"Nếu Mỹ tiếp tục có những hành động sai lầm, Trung Quốc chắc chắn sẽ thực thi các biện pháp đáp trả\".\n",
    "\n",
    "Nếu dự luật được Tổng thống Mỹ Donald Trump ký, nếu Hong Kong đánh mất trạng thái thương mại đặc biệt, nền kinh tế Trung Quốc sẽ chịu tác động mạnh mẽ bởi Hong Kong sở hữu một thị trường thương mại tự do, góp phần quan trọng giúp kết nối các doanh nghiệp nước ngoài với thị trường Trung Quốc.\n",
    "\n",
    "Nhiều nhà đầu tư nước ngoài đã lựa chọn Hong Kong là \"bàn đạp\" trước khi tham gia vào thị trường Trung Quốc, vốn đầu tư nước ngoài (FDI) cũng thường được rót vào Trung Quốc qua Hong Kong. \n",
    "\n",
    "Phần lớn cổ phiếu của các tập đoàn lớn ở Trung Quốc, từ doanh nghiệp nhà nước như Ngân hàng Thương mại và Công nghiệp Trung Quốc (ICBC) đến tập đoàn công nghệ tư nhân Tencent Holdings, đều được niêm yết trên sàn chứng khoán Hang Sen, Hong Kong, như một \"bước đệm\" ra thị trường thế giới.\n",
    "\n",
    "Theo số liệu của Refinitiv, công ty cung cấp dữ liệu thị trường tài chính toàn cầu, trụ sở ở London, Anh, năm 2018, các doanh nghiệp Trung Quốc đã huy động được 64,2 nghìn tỷ USD qua phát hành cổ phiếu công khai lần đầu (IPO), trong đó những sàn chứng khoán lớn của Trung Quốc như Thượng Hải và Thâm Quyến chỉ đem về 19,7 nghìn tỷ USD, trong khi sàn Han Seng của Hong Kong mang về 35 nghìn tỷ USD.\n",
    "\n",
    "Tổng thống Trump hiện chưa có động thái nào cho thấy liệu ông muốn ký HKHRDA hay không. Giới chuyên gia lo ngại việc thông qua dự luật còn có thể ảnh hưởng tới tiến trình đàm phán chấm dứt chiến tranh thương mại đang có dấu hiệu khởi sắc giữa Mỹ và Trung Quốc. Nếu đàm phán thương mại Mỹ - Trung sụp đổ, thị trường toàn cầu chắc chắn sẽ chao đảo.\n",
    "\n",
    "Dù vậy, theo Willy Lam, giáo sư trợ giảng tại Đại học Trung Văn Hong Kong, hiện tại, nếu dự luật được phê chuẩn, hành động này cũng chỉ mang ý nghĩa biểu tượng bởi mọi điều chỉnh hay thay đổi đều phải chờ cho tới khi Bộ Ngoại giao Mỹ công bố đánh giá hàng năm.\n",
    "\n",
    "\"Với những người biểu tình, đây là một phần hỗ trợ tinh thần khá quan trọng đến từ Mỹ\", ông nói.'''"
   ]
  },
  {
   "cell_type": "code",
   "execution_count": 8,
   "metadata": {},
   "outputs": [],
   "source": [
    "sentences = nltk.sent_tokenize(data)"
   ]
  },
  {
   "cell_type": "code",
   "execution_count": 9,
   "metadata": {},
   "outputs": [],
   "source": [
    "def word_embedding(sen):\n",
    "    embeded = 0\n",
    "    word_list = ViTokenizer.tokenize(sen).split()\n",
    "    for i in range(len(word_list)):\n",
    "        if ((word_list[i] in word2vec_model.index2word) == True):\n",
    "            embeded = embeded + word2vec_model.get_vector(word_list[i])\n",
    "        else:\n",
    "            embeded = embeded + unknown_embedd\n",
    "    return embeded"
   ]
  },
  {
   "cell_type": "code",
   "execution_count": 10,
   "metadata": {},
   "outputs": [],
   "source": [
    "def doc_embedding(sen):\n",
    "    return model.infer_vector(nltk.word_tokenize(sen))"
   ]
  },
  {
   "cell_type": "code",
   "execution_count": 11,
   "metadata": {},
   "outputs": [],
   "source": [
    "# Load word2vec pretrained\n",
    "word2vec_model = KeyedVectors.load_word2vec_format('baomoi.window2.vn.model.bin', binary=True)\n",
    "embedd_vectors = word2vec_model.vectors\n",
    "unknown_embedd = np.zeros(300)"
   ]
  },
  {
   "cell_type": "code",
   "execution_count": 14,
   "metadata": {},
   "outputs": [],
   "source": [
    "#Load doc2vec pretrained\n",
    "model= Doc2Vec.load(\"d2v.model\")"
   ]
  },
  {
   "cell_type": "code",
   "execution_count": 15,
   "metadata": {},
   "outputs": [],
   "source": [
    "# Tạo vector tfidf\n",
    "tf=TfidfVectorizer(min_df=5,max_df=0.8,max_features=3000,sublinear_tf=True)\n",
    "tf.fit(sentences)\n",
    "tfidf_vec=tf.transform(sentences)\n",
    "newtf = scipy.sparse.csr_matrix.toarray(tfidf_vec)"
   ]
  },
  {
   "cell_type": "code",
   "execution_count": 16,
   "metadata": {},
   "outputs": [],
   "source": [
    "# concat word embedding vector, tfidf vector, doc2vec vector\n",
    "def vec(data):\n",
    "    data = data.lower()\n",
    "    sentences = nltk.sent_tokenize(data)\n",
    "    vec = []\n",
    "    index = []\n",
    "    for i in range(len(sentences)):\n",
    "        concated = np.concatenate((word_embedding(sentences[i]),newtf[i],doc_embedding(sentences[i])),axis=0)\n",
    "        vec.append(concated)\n",
    "        index.append(i)\n",
    "    return vec"
   ]
  },
  {
   "cell_type": "code",
   "execution_count": 30,
   "metadata": {},
   "outputs": [],
   "source": [
    "vector = vec(data)"
   ]
  },
  {
   "cell_type": "code",
   "execution_count": 31,
   "metadata": {},
   "outputs": [],
   "source": [
    "# tìm các cluster sử dụng kmean\n",
    "\n",
    "n_clusters = len(sentences)//3\n",
    "kmeans = KMeans(n_clusters=n_clusters)\n",
    "kmeans = kmeans.fit(vector)"
   ]
  },
  {
   "cell_type": "code",
   "execution_count": 32,
   "metadata": {},
   "outputs": [],
   "source": [
    "# Lấy ra các câu gần tâm nhất\n",
    "avg = []\n",
    "for j in range(n_clusters):\n",
    "    idx = np.where(kmeans.labels_ == j)[0]\n",
    "    avg.append(np.mean(idx))\n",
    "closest, _ = pairwise_distances_argmin_min(kmeans.cluster_centers_, vector)\n",
    "ordering = sorted(range(n_clusters), key=lambda k: avg[k])\n",
    "summary = ' '.join([sentences[closest[idx]] for idx in ordering])"
   ]
  },
  {
   "cell_type": "code",
   "execution_count": 33,
   "metadata": {},
   "outputs": [
    {
     "data": {
      "text/plain": [
       "'Tác động lớn nhất của HKHRDA có lẽ đến từ khả năng Hong Kong bị hủy bỏ trạng thái đặc biệt, thứ tạo ra sự khác biệt giữa đặc khu và phần còn lại của Trung Quốc đại lục, qua đó, bảo vệ Hong Kong khỏi cuộc chiến về thuế đang sôi sục giữa Washington và Bắc Kinh. Trạng thái đặc biệt cũng mang đến những lợi ích khác, bao gồm cho phép cư dân Hong Kong tránh các hạn chế về thị thực áp dụng cho công dân Trung Quốc đại lục, cho phép đặc khu mua các công nghệ nhạy cảm, đồng thời đảm bảo trao đổi tự do giữa đồng dollar Mỹ và dollar Hong Kong. Theo đó, Mỹ sẽ tiến hành đánh giá hàng năm về việc liệu Hong Kong có đủ tự chủ để tiếp tục hưởng các ưu đãi thương mại và kinh tế từ trạng thái đặc biệt được quy định trong Đạo luật Chính sách Mỹ - Hong Kong 1992 hay không. \"Học sinh, sinh viên cần có một lối ra cũng như những lựa chọn khác ngay cả khi họ bị kết án tại Hong Kong vì tham gia biểu tình\", ông nói. Bất kể điều gì làm thay đổi trạng thái đặc biệt của Hong Kong đều sẽ \"tác động xấu tới thương mại và đầu tư Mỹ ở đặc khu cũng như truyền đi những tín hiệu tiêu cực về vị thế đáng tin cậy của Hong Kong trong nền kinh tế toàn cầu\", AmCham lưu ý.\\n\\nSau khi lưỡng viện Mỹ thông qua HKHRDA, Trung Quốc đã kêu gọi Tổng thống Donald Trump không ký dự luật, cảnh báo Bắc Kinh sẽ trả đũa nếu HKHRDA trở thành luật. Tuy nhiên, việc phê chuẩn dự luật cũng có thể khiến Mỹ đối mặt với rủi ro. Nhưng với những người biểu tình đã bị bắt và truy tố ở Hong Kong, HKHRDA mang đến cho họ hy vọng. Hong Kong cũng là đối tác đem lại thặng dư thương mại song phương lớn nhất của Mỹ trên thế giới, với 33 tỷ USD trong năm 2018. Các công ty vốn phụ thuộc vào Hong Kong với vai trò trung gian, trung chuyển hàng hóa, sẽ phải cân nhắc đưa doanh nghiệp tới những nơi khác, như Singapore hay Tokyo. Nếu dự luật được Tổng thống Mỹ Donald Trump ký, nếu Hong Kong đánh mất trạng thái thương mại đặc biệt, nền kinh tế Trung Quốc sẽ chịu tác động mạnh mẽ bởi Hong Kong sở hữu một thị trường thương mại tự do, góp phần quan trọng giúp kết nối các doanh nghiệp nước ngoài với thị trường Trung Quốc. Nhiều nhà đầu tư nước ngoài đã lựa chọn Hong Kong là \"bàn đạp\" trước khi tham gia vào thị trường Trung Quốc, vốn đầu tư nước ngoài (FDI) cũng thường được rót vào Trung Quốc qua Hong Kong. Phần lớn cổ phiếu của các tập đoàn lớn ở Trung Quốc, từ doanh nghiệp nhà nước như Ngân hàng Thương mại và Công nghiệp Trung Quốc (ICBC) đến tập đoàn công nghệ tư nhân Tencent Holdings, đều được niêm yết trên sàn chứng khoán Hang Sen, Hong Kong, như một \"bước đệm\" ra thị trường thế giới. Nếu đàm phán thương mại Mỹ - Trung sụp đổ, thị trường toàn cầu chắc chắn sẽ chao đảo.'"
      ]
     },
     "execution_count": 33,
     "metadata": {},
     "output_type": "execute_result"
    }
   ],
   "source": [
    "summary"
   ]
  },
  {
   "cell_type": "code",
   "execution_count": null,
   "metadata": {},
   "outputs": [],
   "source": []
  },
  {
   "cell_type": "code",
   "execution_count": 36,
   "metadata": {},
   "outputs": [],
   "source": [
    "from sklearn.manifold import TSNE\n",
    "def tsne_plot(model):\n",
    "    \"Creates and TSNE model and plots it\"\n",
    "    labels = []\n",
    "    tokens = []\n",
    "\n",
    "    for word in model.wv.vocab:\n",
    "        tokens.append(model[word])\n",
    "        labels.append(word)\n",
    "    \n",
    "    tsne_model = TSNE(perplexity=40, n_components=2, init='pca', n_iter=2500, random_state=23)\n",
    "    new_values = tsne_model.fit_transform(tokens)\n",
    "\n",
    "    x = []\n",
    "    y = []\n",
    "    for value in new_values:\n",
    "        x.append(value[0])\n",
    "        y.append(value[1])\n",
    "        \n",
    "    plt.figure(figsize=(16, 16)) \n",
    "    for i in range(len(x)):\n",
    "        plt.scatter(x[i],y[i])\n",
    "        plt.annotate(labels[i],\n",
    "                     xy=(x[i], y[i]),\n",
    "                     xytext=(5, 2),\n",
    "                     textcoords='offset points',\n",
    "                     ha='right',\n",
    "                     va='bottom')\n",
    "    plt.show()"
   ]
  },
  {
   "cell_type": "code",
   "execution_count": 37,
   "metadata": {},
   "outputs": [
    {
     "ename": "NameError",
     "evalue": "name 'plt' is not defined",
     "output_type": "error",
     "traceback": [
      "\u001b[0;31m---------------------------------------------------------------------------\u001b[0m",
      "\u001b[0;31mNameError\u001b[0m                                 Traceback (most recent call last)",
      "\u001b[0;32m<ipython-input-37-d0f4ea6902bf>\u001b[0m in \u001b[0;36m<module>\u001b[0;34m\u001b[0m\n\u001b[0;32m----> 1\u001b[0;31m \u001b[0mtsne_plot\u001b[0m\u001b[0;34m(\u001b[0m\u001b[0mmodel\u001b[0m\u001b[0;34m)\u001b[0m\u001b[0;34m\u001b[0m\u001b[0;34m\u001b[0m\u001b[0m\n\u001b[0m",
      "\u001b[0;32m<ipython-input-36-1e6835e30770>\u001b[0m in \u001b[0;36mtsne_plot\u001b[0;34m(model)\u001b[0m\n\u001b[1;32m     18\u001b[0m         \u001b[0my\u001b[0m\u001b[0;34m.\u001b[0m\u001b[0mappend\u001b[0m\u001b[0;34m(\u001b[0m\u001b[0mvalue\u001b[0m\u001b[0;34m[\u001b[0m\u001b[0;36m1\u001b[0m\u001b[0;34m]\u001b[0m\u001b[0;34m)\u001b[0m\u001b[0;34m\u001b[0m\u001b[0;34m\u001b[0m\u001b[0m\n\u001b[1;32m     19\u001b[0m \u001b[0;34m\u001b[0m\u001b[0m\n\u001b[0;32m---> 20\u001b[0;31m     \u001b[0mplt\u001b[0m\u001b[0;34m.\u001b[0m\u001b[0mfigure\u001b[0m\u001b[0;34m(\u001b[0m\u001b[0mfigsize\u001b[0m\u001b[0;34m=\u001b[0m\u001b[0;34m(\u001b[0m\u001b[0;36m16\u001b[0m\u001b[0;34m,\u001b[0m \u001b[0;36m16\u001b[0m\u001b[0;34m)\u001b[0m\u001b[0;34m)\u001b[0m\u001b[0;34m\u001b[0m\u001b[0;34m\u001b[0m\u001b[0m\n\u001b[0m\u001b[1;32m     21\u001b[0m     \u001b[0;32mfor\u001b[0m \u001b[0mi\u001b[0m \u001b[0;32min\u001b[0m \u001b[0mrange\u001b[0m\u001b[0;34m(\u001b[0m\u001b[0mlen\u001b[0m\u001b[0;34m(\u001b[0m\u001b[0mx\u001b[0m\u001b[0;34m)\u001b[0m\u001b[0;34m)\u001b[0m\u001b[0;34m:\u001b[0m\u001b[0;34m\u001b[0m\u001b[0;34m\u001b[0m\u001b[0m\n\u001b[1;32m     22\u001b[0m         \u001b[0mplt\u001b[0m\u001b[0;34m.\u001b[0m\u001b[0mscatter\u001b[0m\u001b[0;34m(\u001b[0m\u001b[0mx\u001b[0m\u001b[0;34m[\u001b[0m\u001b[0mi\u001b[0m\u001b[0;34m]\u001b[0m\u001b[0;34m,\u001b[0m\u001b[0my\u001b[0m\u001b[0;34m[\u001b[0m\u001b[0mi\u001b[0m\u001b[0;34m]\u001b[0m\u001b[0;34m)\u001b[0m\u001b[0;34m\u001b[0m\u001b[0;34m\u001b[0m\u001b[0m\n",
      "\u001b[0;31mNameError\u001b[0m: name 'plt' is not defined"
     ]
    }
   ],
   "source": [
    "\n",
    "tsne_plot(model)"
   ]
  },
  {
   "cell_type": "code",
   "execution_count": null,
   "metadata": {},
   "outputs": [],
   "source": []
  }
 ],
 "metadata": {
  "kernelspec": {
   "display_name": "Python 3",
   "language": "python",
   "name": "python3"
  },
  "language_info": {
   "codemirror_mode": {
    "name": "ipython",
    "version": 3
   },
   "file_extension": ".py",
   "mimetype": "text/x-python",
   "name": "python",
   "nbconvert_exporter": "python",
   "pygments_lexer": "ipython3",
   "version": "3.6.8"
  }
 },
 "nbformat": 4,
 "nbformat_minor": 2
}
